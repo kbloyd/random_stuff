{
 "cells": [
  {
   "cell_type": "code",
   "execution_count": 1,
   "metadata": {},
   "outputs": [],
   "source": [
    "import pandas as pd"
   ]
  },
  {
   "cell_type": "code",
   "execution_count": 2,
   "metadata": {},
   "outputs": [
    {
     "data": {
      "application/vnd.microsoft.datawrangler.viewer.v0+json": {
       "columns": [
        {
         "name": "index",
         "rawType": "int64",
         "type": "integer"
        },
        {
         "name": "customerID",
         "rawType": "object",
         "type": "string"
        },
        {
         "name": "sourceSystemCode",
         "rawType": "object",
         "type": "string"
        }
       ],
       "conversionMethod": "pd.DataFrame",
       "ref": "b5f92f01-41c1-4926-a1d7-4b7fb2e83d11",
       "rows": [
        [
         "0",
         "9998880001",
         "HCM"
        ],
        [
         "1",
         "9998880003",
         "HCM"
        ],
        [
         "2",
         "9998880005",
         "HCM"
        ]
       ],
       "shape": {
        "columns": 2,
        "rows": 3
       }
      },
      "text/html": [
       "<div>\n",
       "<style scoped>\n",
       "    .dataframe tbody tr th:only-of-type {\n",
       "        vertical-align: middle;\n",
       "    }\n",
       "\n",
       "    .dataframe tbody tr th {\n",
       "        vertical-align: top;\n",
       "    }\n",
       "\n",
       "    .dataframe thead th {\n",
       "        text-align: right;\n",
       "    }\n",
       "</style>\n",
       "<table border=\"1\" class=\"dataframe\">\n",
       "  <thead>\n",
       "    <tr style=\"text-align: right;\">\n",
       "      <th></th>\n",
       "      <th>customerID</th>\n",
       "      <th>sourceSystemCode</th>\n",
       "    </tr>\n",
       "  </thead>\n",
       "  <tbody>\n",
       "    <tr>\n",
       "      <th>0</th>\n",
       "      <td>9998880001</td>\n",
       "      <td>HCM</td>\n",
       "    </tr>\n",
       "    <tr>\n",
       "      <th>1</th>\n",
       "      <td>9998880003</td>\n",
       "      <td>HCM</td>\n",
       "    </tr>\n",
       "    <tr>\n",
       "      <th>2</th>\n",
       "      <td>9998880005</td>\n",
       "      <td>HCM</td>\n",
       "    </tr>\n",
       "  </tbody>\n",
       "</table>\n",
       "</div>"
      ],
      "text/plain": [
       "   customerID sourceSystemCode\n",
       "0  9998880001              HCM\n",
       "1  9998880003              HCM\n",
       "2  9998880005              HCM"
      ]
     },
     "execution_count": 2,
     "metadata": {},
     "output_type": "execute_result"
    }
   ],
   "source": [
    "data = [\n",
    "    {\n",
    "        \"customerID\": \"9998880001\", \"sourceSystemCode\": \"HCM\"\n",
    "    },\n",
    "        {\n",
    "        \"customerID\": \"9998880003\", \"sourceSystemCode\": \"HCM\"\n",
    "    },\n",
    "        {\n",
    "        \"customerID\": \"9998880005\", \"sourceSystemCode\": \"HCM\"\n",
    "    }\n",
    "]\n",
    "source = pd.DataFrame(data)\n",
    "source"
   ]
  },
  {
   "cell_type": "code",
   "execution_count": 3,
   "metadata": {},
   "outputs": [],
   "source": [
    "# class BulkCrossRefLookup(AnnotatedStepFactory):\n",
    "#     def __init__(self):\n",
    "#         self.dcc = DealerCustomerConsolidationRef()\n",
    "\n",
    "#     @step.transform_column.to_temp(target=\"temp_dealer_customer_consolidation\")\n",
    "#     def temp_dealer_customer_consolidation(self, source: pd.DataFrame) -> pd.Series:\n",
    "#         # The source DataFrame will contain 2 columns customerID and sourceSystemCode\n",
    "#         # and will have 3 rows of data as shown in example below\n",
    "#         \"\"\"\n",
    "#             |customerID | sourceSystemCode|\n",
    "#             |9998880001 | HCM             |\n",
    "#             |9998880003 | HCM             |\n",
    "#             |9998880005 | HCM             |\n",
    "#         \"\"\""
   ]
  },
  {
   "cell_type": "code",
   "execution_count": 4,
   "metadata": {},
   "outputs": [],
   "source": [
    "# Validate if customerID & sourceSystemCode exists in source DataFrame and assign a copy of the df to src_df and print \"return\" if not\n",
    "# Type code below:\n"
   ]
  },
  {
   "cell_type": "code",
   "execution_count": 5,
   "metadata": {},
   "outputs": [],
   "source": [
    "# Convert the source DataFrame to a list of dicts,\n",
    "# and assign it to a variable called helper_input_list\n",
    "# Type code below:\n"
   ]
  },
  {
   "cell_type": "code",
   "execution_count": 6,
   "metadata": {},
   "outputs": [],
   "source": [
    "# # The lookup method below returns an iterator\n",
    "# # object which contains decision objects.\n",
    "# # Each decision object corresponds to one row in the source df.\n",
    "# # A decision object can contain 1-n ValueChoice objects.\n",
    "# # A ValueChoice object with the value set to None means\n",
    "# # the lookup returned nothing for that row.\n",
    "# decision_iterator = self.dcc.do_lookup(record_list=helper_input_list)\n",
    "\n",
    "# \"\"\"\n",
    "# [\n",
    "#     Decisions(\n",
    "#             [\n",
    "#                 ValueChoice(\n",
    "#                     subject=\"test_dcc\",\n",
    "#                     value=None,\n",
    "#                 ),\n",
    "#             ]\n",
    "#         ),\n",
    "#     Decisions(\n",
    "#             [\n",
    "#                 ValueChoice(\n",
    "#                     subject=\"test_dcc\",\n",
    "#                     value={\n",
    "#                         \"customerID\":\"9998880003\",\n",
    "#                         \"sourceSystemCode\": \"HCM\",\n",
    "#                         \"dealerCustomerNumber\": \"SS0002\",\n",
    "#                         \"dealerCode\": \"SS02\",\n",
    "#                     },\n",
    "#                 ),\n",
    "#             ]\n",
    "#         ),  \n",
    "#     Decisions(\n",
    "#             [\n",
    "#                 ValueChoice(\n",
    "#                     subject=\"test_dcc\",\n",
    "#                     value={\n",
    "#                         \"customerID\":\"9998880005\",\n",
    "#                         \"sourceSystemCode\": \"HCM\",\n",
    "#                         \"dealerCustomerNumber\": \"SS0002\",\n",
    "#                         \"dealerCode\": \"SS02\",\n",
    "#                     },\n",
    "#                 ),\n",
    "#                 ValueChoice(\n",
    "#                     subject=\"test_dcc\",\n",
    "#                     value={\n",
    "#                         \"customerID\":\"9998880005\",\n",
    "#                         \"sourceSystemCode\": \"HCM\",\n",
    "#                         \"dealerCustomerNumber\": \"SS0003\",\n",
    "#                         \"dealerCode\": \"SS03\",\n",
    "#                     },\n",
    "#                 )\n",
    "#             ]\n",
    "#         ),\n",
    "# ]\n",
    "# \"\"\""
   ]
  },
  {
   "cell_type": "code",
   "execution_count": 3,
   "metadata": {},
   "outputs": [],
   "source": [
    "class ValueChoice:\n",
    "    def __init__(self, subject, value):\n",
    "        self.subject = subject\n",
    "        self.value = value\n",
    "\n",
    "    def __repr__(self):\n",
    "        return f\"ValueChoice(subject={self.subject}, value={self.value})\"\n",
    "\n",
    "class Decisions:\n",
    "    def __init__(self, value_choices):\n",
    "        self.value_choices = value_choices\n",
    "\n",
    "    def __repr__(self):\n",
    "        return f\"Decisions(value_choices={self.value_choices})\""
   ]
  },
  {
   "cell_type": "code",
   "execution_count": 4,
   "metadata": {},
   "outputs": [],
   "source": [
    "decision_iterator = iter([\n",
    "    Decisions([\n",
    "        ValueChoice(\n",
    "            subject=\"test_dcc\",\n",
    "            value=None,\n",
    "        ),\n",
    "    ]),\n",
    "    Decisions([\n",
    "        ValueChoice(\n",
    "            subject=\"test_dcc\",\n",
    "            value={\n",
    "                \"customerID\": \"9998880003\",\n",
    "                \"sourceSystemCode\": \"HCM\",\n",
    "                \"dealerCustomerNumber\": \"SS0002\",\n",
    "                \"dealerCode\": \"SS02\",\n",
    "            },\n",
    "        ),\n",
    "    ]),\n",
    "    Decisions([\n",
    "        ValueChoice(\n",
    "            subject=\"test_dcc\",\n",
    "            value={\n",
    "                \"customerID\": \"9998880005\",\n",
    "                \"sourceSystemCode\": \"HCM\",\n",
    "                \"dealerCustomerNumber\": \"SS0002\",\n",
    "                \"dealerCode\": \"SS02\",\n",
    "            },\n",
    "        ),\n",
    "        ValueChoice(\n",
    "            subject=\"test_dcc\",\n",
    "            value={\n",
    "                \"customerID\": \"9998880005\",\n",
    "                \"sourceSystemCode\": \"HCM\",\n",
    "                \"dealerCustomerNumber\": \"SS0003\",\n",
    "                \"dealerCode\": \"SS03\",\n",
    "            },\n",
    "        ),\n",
    "    ]),\n",
    "])      \n",
    "\n",
    "\n",
    "    "
   ]
  },
  {
   "cell_type": "code",
   "execution_count": 5,
   "metadata": {},
   "outputs": [],
   "source": [
    "# Using the decision_iterator response from the lookup method above,\n",
    "# iterate over the responses and capture the results.\n",
    "# The Decisions objects contain nested objects\n",
    "# (see example in doc string above).\n",
    "# Decisions -> value_choice -> value\n",
    "# Build a panda series that contains the return values for these lookups, matched with the source df.\n",
    "# Each row of the panda series should only contain the lookup results of the corresponding row in the source DataFrame.\n",
    "# If a row from the source DataFrame resulted in no lookup value being returned:\n",
    "# (value=None), that row in the panda series should contain an empty dealer code list.\n",
    "# The length of the panda series being returned should match the length of the source DataFrame.\n",
    "# Final output: a pandas series which has the customer ids from the source and list of associated dealer codes from the lookup result.\n",
    "# Type code below:\n",
    "\n"
   ]
  },
  {
   "cell_type": "code",
   "execution_count": null,
   "metadata": {},
   "outputs": [],
   "source": []
  },
  {
   "cell_type": "code",
   "execution_count": null,
   "metadata": {},
   "outputs": [],
   "source": []
  },
  {
   "cell_type": "code",
   "execution_count": 6,
   "metadata": {},
   "outputs": [],
   "source": [
    "# 2. Given the mapping function below map_std_mfr_cd with dictionary as an input parameter,\n",
    "# what unit test scenarios would you test?\n",
    "\n",
    "def map_std_mfr_cd(temp: dict):\n",
    "    if temp.get(\"standard_manufacturer_code\") and len(temp.get(\"standard_manufacturer_code\")) > 4:\n",
    "        std_man_code = temp.get(\"standard_manufacturer_code\")\n",
    "    else:\n",
    "        std_man_code = \"NA\"\n",
    "    return std_man_code"
   ]
  },
  {
   "cell_type": "code",
   "execution_count": 7,
   "metadata": {},
   "outputs": [],
   "source": [
    "# Write out your unit tests below\n",
    "\n",
    "from unittest import TestCase\n",
    "\n",
    "\n",
    "class MapRulesTest(TestCase):\n",
    "\n",
    "    def test_map_std_mfr_cd(self):\n",
    "        pass"
   ]
  },
  {
   "cell_type": "code",
   "execution_count": 8,
   "metadata": {},
   "outputs": [
    {
     "name": "stderr",
     "output_type": "stream",
     "text": [
      "test_map_std_mfr_cd (__main__.MapRulesTest) ... ok\n",
      "\n",
      "----------------------------------------------------------------------\n",
      "Ran 1 test in 0.002s\n",
      "\n",
      "OK\n"
     ]
    },
    {
     "data": {
      "text/plain": [
       "<unittest.main.TestProgram at 0x10719e580>"
      ]
     },
     "execution_count": 8,
     "metadata": {},
     "output_type": "execute_result"
    }
   ],
   "source": [
    "import unittest\n",
    "\n",
    "# Run the tests\n",
    "unittest.main(argv=[''], verbosity=2, exit=False)"
   ]
  },
  {
   "cell_type": "code",
   "execution_count": null,
   "metadata": {},
   "outputs": [],
   "source": []
  },
  {
   "cell_type": "code",
   "execution_count": 9,
   "metadata": {},
   "outputs": [],
   "source": [
    "# •  Date Range Filtering:Question: Given a DataFrame with a Date column and a Sales column, how would you filter the DataFrame to include only rows where the Date falls within the last 90 days from today?\n",
    "\n",
    "import pandas as pd\n",
    "from datetime import datetime, timedelta\n",
    "\n",
    "# Sample DataFrame\n",
    "df = pd.DataFrame({\n",
    "    'Date': pd.date_range(start='2024-01-01', periods=120),\n",
    "    'Sales': range(120)\n",
    "})\n",
    "\n",
    "\n",
    "\n",
    "\n"
   ]
  },
  {
   "cell_type": "code",
   "execution_count": null,
   "metadata": {},
   "outputs": [],
   "source": [
    "# Question: Given a DataFrame with a column ['Amount'], write a custom function to categorize amounts into 'Low', 'Medium', or 'High' based on specified thresholds. Apply this function to create a new column with the categories.\n",
    "\n",
    "import pandas as pd\n",
    "\n",
    "# Sample DataFrame\n",
    "df = pd.DataFrame({\n",
    "    'Amount': [100, 500, 1500, 2500]\n",
    "})\n",
    "\n"
   ]
  },
  {
   "cell_type": "code",
   "execution_count": null,
   "metadata": {},
   "outputs": [],
   "source": [
    "# Advanced Merging:\n",
    "# Question: Given DataFrames df1 with columns ['ID', 'Name'] and df2 with columns ['ID', 'Score', 'Date'], merge these DataFrames on ID and Date, keeping only the rows where Score is above 80 and Date is within the last 30 days.\n",
    "\n",
    "import pandas as pd\n",
    "from datetime import datetime, timedelta\n",
    "\n",
    "# Sample DataFrames\n",
    "df1 = pd.DataFrame({'ID': [1, 2, 3], 'Name': ['Alice', 'Bob', 'Charlie']})\n",
    "df2 = pd.DataFrame({\n",
    "    'ID': [1, 2, 3],\n",
    "    'Score': [85, 90, 75],\n",
    "    'Date': pd.date_range(start='2024-07-01', periods=3)\n",
    "})\n",
    "\n",
    "\n"
   ]
  },
  {
   "cell_type": "code",
   "execution_count": null,
   "metadata": {},
   "outputs": [],
   "source": [
    "sales_df = pd.DataFrame({\n",
    "    'transaction_id': [1, 2, 3, 4, 5],\n",
    "    'customer_id': [101, 102, 103, 101, 104],\n",
    "    'product_id': [1001, 1002, 1003, 1001, 1004],\n",
    "    'quantity': [2, 1, 3, 2, 1],\n",
    "    'price': [10.0, 20.0, 15.0, 10.0, 25.0],\n",
    "    'transaction_date': ['2023-01-01', '2023-01-02', '2023-01-03', '2023-01-04', '2023-01-05']\n",
    "})\n",
    " \n",
    "customers_df = pd.DataFrame({\n",
    "    'customer_id': [101, 102, 103, 104],\n",
    "    'customer_name': ['Alice', 'Bob', 'Charlie', 'David'],\n",
    "    'email': ['alice@example.com', 'bob@example.com', 'charlie@example.com', 'david@example.com'],\n",
    "    'signup_date': ['2022-01-01', '2022-02-01', '2022-03-01', '2022-04-01']\n",
    "})\n",
    " \n",
    "products_df = pd.DataFrame({\n",
    "    'product_id': [1001, 1002, 1003, 1004],\n",
    "    'product_name': ['Product A', 'Product B', 'Product C', 'Product D'],\n",
    "    'category': ['Category 1', 'Category 2', 'Category 1', 'Category 3'],\n",
    "    'price': [10.0, 20.0, 15.0, 25.0]\n",
    "})"
   ]
  },
  {
   "cell_type": "code",
   "execution_count": null,
   "metadata": {},
   "outputs": [],
   "source": [
    "# Remove any duplicate records from all DataFrames."
   ]
  },
  {
   "cell_type": "code",
   "execution_count": null,
   "metadata": {},
   "outputs": [],
   "source": [
    "# Handle missing values by filling them with appropriate defaults or dropping the rows."
   ]
  },
  {
   "cell_type": "code",
   "execution_count": null,
   "metadata": {},
   "outputs": [],
   "source": [
    "# Calculate the total sales amount for each transaction (total_amount = quantity * price)"
   ]
  },
  {
   "cell_type": "code",
   "execution_count": null,
   "metadata": {},
   "outputs": [],
   "source": [
    "# Convert transaction_date and signup_date to datetime format."
   ]
  },
  {
   "cell_type": "code",
   "execution_count": null,
   "metadata": {},
   "outputs": [],
   "source": [
    "# Extract the year and month from transaction_date and add them as new columns (year, month)."
   ]
  },
  {
   "cell_type": "code",
   "execution_count": null,
   "metadata": {},
   "outputs": [],
   "source": []
  },
  {
   "cell_type": "code",
   "execution_count": null,
   "metadata": {},
   "outputs": [],
   "source": []
  },
  {
   "cell_type": "code",
   "execution_count": null,
   "metadata": {},
   "outputs": [],
   "source": []
  }
 ],
 "metadata": {
  "kernelspec": {
   "display_name": "script-fun",
   "language": "python",
   "name": "python3"
  },
  "language_info": {
   "codemirror_mode": {
    "name": "ipython",
    "version": 3
   },
   "file_extension": ".py",
   "mimetype": "text/x-python",
   "name": "python",
   "nbconvert_exporter": "python",
   "pygments_lexer": "ipython3",
   "version": "3.9.4"
  }
 },
 "nbformat": 4,
 "nbformat_minor": 2
}
